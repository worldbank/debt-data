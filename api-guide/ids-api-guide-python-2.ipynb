{
 "cells": [
  {
   "cell_type": "markdown",
   "metadata": {},
   "source": [
    "# Accessing International Debt Statistics (IDS) through World Bank Data API\n",
    "## Part 2 - Retrieve, explore, and visualize data\n",
    "### *Python 3*"
   ]
  },
  {
   "cell_type": "markdown",
   "metadata": {},
   "source": [
    "Date: 04/15/2020, Updated 05/01/2020\n",
    "\n",
    "[Data source](https://datacatalog.worldbank.org/dataset/international-debt-statistics)<br>\n",
    "[Developer Information](https://datahelpdesk.worldbank.org/knowledgebase/topics/125589-developer-information)<br>\n",
    "[GitHub](https://github.com/worldbank/debt-data/tree/master/api-guide)"
   ]
  },
  {
   "cell_type": "markdown",
   "metadata": {},
   "source": [
    "This is second part of a two-part series on accessing the International Debt Statistics (IDS) database through the World Bank Data API. In [Part 1](https://worldbank.github.io/debt-data/api-guide/ids-api-guide-python-1.html), we queried the World Bank Data API to retrieve indicator names and location codes. In this guide, we will use that information to explore the **regional trends of long-term external debt stocks** from the IDS database. \n",
    "\n",
    "The following code in this guide will show step-by-step how to:\n",
    "\n",
    "1. Setup up your environment with the needed packages.\n",
    "2. Input your data specifications, as selected in [Part 1](https://worldbank.github.io/debt-data/api-guide/ids-api-guide-python-1.html).\n",
    "3. Use the World Bank Data API to return the specified data\n",
    "4. Explore the data through basic descriptive analysis and create a chart."
   ]
  },
  {
   "cell_type": "markdown",
   "metadata": {},
   "source": [
    "## 1. Setup\n",
    "To start, make sure you have the following packages installed on your machine. If you aren't familiar with how to install a Python package, visit each of the linked packages below for instructions.\n",
    "\n",
    "- [pandas](https://pandas.pydata.org/): Data analysis\n",
    "- [numpy](https://www.numpy.org/): Data analysis\n",
    "- [datetime](https://docs.python.org/3.5/library/datetime.html): Parsing dates\n",
    "- [wbdata](https://wbdata.readthedocs.io/en/latest/#): World Bank Data API wrapper\n",
    "\n",
    "Then, open your preferred mode of writing Python. This could be in a [Jupyter notebook](https://jupyter.org/) with or without [JupyterLab](https://jupyterlab.readthedocs.io/en/stable/) or in a code editor or IDE such as [Atom](https://atom.io/), [Visual Studio](https://visualstudio.microsoft.com/), or [PyCharm](https://www.jetbrains.com/pycharm/). \n",
    "\n",
    "Next, follow the steps below to retrieve and visualize the World Bank data."
   ]
  },
  {
   "cell_type": "code",
   "execution_count": 1,
   "metadata": {},
   "outputs": [],
   "source": [
    "# Import packages\n",
    "import datetime\n",
    "import pandas as pd               \n",
    "import numpy as np\n",
    "import wbdata"
   ]
  },
  {
   "cell_type": "code",
   "execution_count": 2,
   "metadata": {},
   "outputs": [
    {
     "name": "stdout",
     "output_type": "stream",
     "text": [
      "pandas version: 1.0.3\n",
      "NumPy version: 1.18.1\n",
      "wbdata version: 0.2.7\n"
     ]
    }
   ],
   "source": [
    "# Package versions used in most recent code update (for compatibility)\n",
    "print(f\"pandas version: {pd.__version__}\")\n",
    "print(f\"NumPy version: {np.__version__}\")\n",
    "print(f\"wbdata version: {wbdata.__version__}\")"
   ]
  },
  {
   "cell_type": "markdown",
   "metadata": {},
   "source": [
    "## 2. Data Specifications\n",
    "You will specify the data you want to explore using the following parameters:\n",
    "- **Indicator(s)**: The indicator code(s) for the data\n",
    "- **Location(s)**: The location code(s) for the countries, regions, or income level categories\n",
    "- **Time**: Years\n",
    "- **Source**: [The World Bank API source](https://datahelpdesk.worldbank.org/knowledgebase/articles/1886686-advanced-data-api-queries)"
   ]
  },
  {
   "cell_type": "markdown",
   "metadata": {},
   "source": [
    "#### Indicator(s)\n",
    "In this guide, we will be looking at \"long-term external debt stock\" from the IDS database. To find the indicator for the data in which you're interested, you can either explore the [World Bank data catalog](https://datacatalog.worldbank.org/dataset/international-debt-statistics) or use an API query as outlined in [Part 1](https://worldbank.github.io/debt-data/api-guide/ids-api-guide-python-1.html) of this series. You can also view the IDS indicators and codes in their hierarchical order on our [data tables](http://datatopics.worldbank.org/debt/ids/). The Analytical view shows the select indicators from the IDS publication and the Standard view shows all available indicators."
   ]
  },
  {
   "cell_type": "code",
   "execution_count": 3,
   "metadata": {},
   "outputs": [],
   "source": [
    "indicatorSelection = {\"DT.DOD.DLXF.CD\":\"ExternalDebtStock\"}"
   ]
  },
  {
   "cell_type": "markdown",
   "metadata": {},
   "source": [
    "The text that follows the indicator code (in this case, \"ExternalDebtStock\") should be a description that helps that you correctly identify the indicator. To call more than one indicator, add more indicator names and descriptions to the dictionary."
   ]
  },
  {
   "cell_type": "markdown",
   "metadata": {},
   "source": [
    "#### Location(s)\n",
    "To select a location by country, region, or income level category you will need to know its 2 or 3 letter code. To figure out what this code is, you can either use an API query as outlined in [Part 1](https://worldbank.github.io/debt-data/api-guide/ids-api-guide-python-1.html) of this series or use the convenient [location-codes csv](https://github.com/worldbank/debt-data/blob/master/api-guide/location-codes.csv)* in this repo. \n",
    "\n",
    "We will select regional aggregates (these exclude high-income countries):\n",
    "- ECA: Europe & Central Asia\n",
    "- SSA: Sub-Saharan Africa\n",
    "- SAS: South Asia\n",
    "- LAC: Latin America & the Caribbean\n",
    "- MNA: Middle East & North Africa\n",
    "- EAP: East Asia & Pacific\n",
    "\n",
    "\n",
    "###### *The location-codes csv was created using the API query: http://api.worldbank.org/v2/country?per_page=500&format=json&source=6"
   ]
  },
  {
   "cell_type": "code",
   "execution_count": 4,
   "metadata": {},
   "outputs": [],
   "source": [
    "locationSelection = [\"ECA\",\"SSA\",\"SAS\",\"LAC\",\"MNA\",\"EAP\"]"
   ]
  },
  {
   "cell_type": "markdown",
   "metadata": {},
   "source": [
    "#### Time\n",
    "Select the time frame for your data series. The format for the date is year, month, day. We are selecting data from 2009 through 2018."
   ]
  },
  {
   "cell_type": "code",
   "execution_count": 5,
   "metadata": {},
   "outputs": [],
   "source": [
    "timeSelection = (datetime.datetime(2009, 1, 1), datetime.datetime(2018, 12, 31))"
   ]
  },
  {
   "cell_type": "markdown",
   "metadata": {},
   "source": [
    "#### Source\n",
    "The World Bank Data API has numerous sources, including one specific to International Debt Statistics. As identified in [Part 1](https://worldbank.github.io/debt-data/api-guide/ids-api-guide-python-1.html), IDS has a source ID of 6."
   ]
  },
  {
   "cell_type": "code",
   "execution_count": 6,
   "metadata": {},
   "outputs": [
    {
     "name": "stdout",
     "output_type": "stream",
     "text": [
      "6\tInternational Debt Statistics\n"
     ]
    }
   ],
   "source": [
    "IDS = wbdata.get_source(source_id=6, display=None)"
   ]
  },
  {
   "cell_type": "markdown",
   "metadata": {},
   "source": [
    "## 3. API Call"
   ]
  },
  {
   "cell_type": "markdown",
   "metadata": {},
   "source": [
    "In this step, we will retrieve the data using the World Bank Data API call. \n",
    "\n",
    "The package [wbdata](https://wbdata.readthedocs.io/en/stable/) created by Oliver Sherouse, can request information from the World Bank database as a dictionary containing full metadata or as a pandas DataFrame. \n",
    "\n",
    "In this example, we will request the data, with the parameters outlined above, and save it as a pandas DataFrame named `EXD`."
   ]
  },
  {
   "cell_type": "code",
   "execution_count": 7,
   "metadata": {},
   "outputs": [],
   "source": [
    "EXD = wbdata.get_dataframe(indicatorSelection,\n",
    "                            country = locationSelection, \n",
    "                            data_date = timeSelection, \n",
    "                            convert_date = False)"
   ]
  },
  {
   "cell_type": "markdown",
   "metadata": {},
   "source": [
    "For a quick preview of your freshly retrieved DataFrame, let's print the first 5 lines with the `.head()` method."
   ]
  },
  {
   "cell_type": "code",
   "execution_count": 8,
   "metadata": {},
   "outputs": [
    {
     "data": {
      "text/html": [
       "<div>\n",
       "<style scoped>\n",
       "    .dataframe tbody tr th:only-of-type {\n",
       "        vertical-align: middle;\n",
       "    }\n",
       "\n",
       "    .dataframe tbody tr th {\n",
       "        vertical-align: top;\n",
       "    }\n",
       "\n",
       "    .dataframe thead th {\n",
       "        text-align: right;\n",
       "    }\n",
       "</style>\n",
       "<table border=\"1\" class=\"dataframe\">\n",
       "  <thead>\n",
       "    <tr style=\"text-align: right;\">\n",
       "      <th></th>\n",
       "      <th></th>\n",
       "      <th>ExternalDebtStock</th>\n",
       "    </tr>\n",
       "    <tr>\n",
       "      <th>country</th>\n",
       "      <th>date</th>\n",
       "      <th></th>\n",
       "    </tr>\n",
       "  </thead>\n",
       "  <tbody>\n",
       "    <tr>\n",
       "      <th rowspan=\"5\" valign=\"top\">East Asia &amp; Pacific (excluding high income)</th>\n",
       "      <th>2018</th>\n",
       "      <td>1.404732e+12</td>\n",
       "    </tr>\n",
       "    <tr>\n",
       "      <th>2017</th>\n",
       "      <td>1.287079e+12</td>\n",
       "    </tr>\n",
       "    <tr>\n",
       "      <th>2016</th>\n",
       "      <td>1.170963e+12</td>\n",
       "    </tr>\n",
       "    <tr>\n",
       "      <th>2015</th>\n",
       "      <td>1.037230e+12</td>\n",
       "    </tr>\n",
       "    <tr>\n",
       "      <th>2014</th>\n",
       "      <td>1.039942e+12</td>\n",
       "    </tr>\n",
       "  </tbody>\n",
       "</table>\n",
       "</div>"
      ],
      "text/plain": [
       "                                                  ExternalDebtStock\n",
       "country                                     date                   \n",
       "East Asia & Pacific (excluding high income) 2018       1.404732e+12\n",
       "                                            2017       1.287079e+12\n",
       "                                            2016       1.170963e+12\n",
       "                                            2015       1.037230e+12\n",
       "                                            2014       1.039942e+12"
      ]
     },
     "execution_count": 8,
     "metadata": {},
     "output_type": "execute_result"
    }
   ],
   "source": [
    "EXD.head()"
   ]
  },
  {
   "cell_type": "markdown",
   "metadata": {},
   "source": [
    "Let's make a copy of our DataFrame so we don't need to call the API again if we want to fix something."
   ]
  },
  {
   "cell_type": "code",
   "execution_count": 9,
   "metadata": {},
   "outputs": [],
   "source": [
    "EXD_df = EXD.copy()"
   ]
  },
  {
   "cell_type": "markdown",
   "metadata": {},
   "source": [
    "## 4. Explore the data!\n",
    "Congratulations! At this point you should have the **long-term external debt stock** for **regions** (excluding high-income economies) from **2009 - 2018** all in a DataFrame called \"EXD.\"\n",
    "\n",
    "Now we can do the following:\n",
    "- **Data Cleaning**: Clean up the format to use in a table or populate a visualization\n",
    "- **Visualization**: Create a simple chart"
   ]
  },
  {
   "cell_type": "markdown",
   "metadata": {},
   "source": [
    "#### Data Cleaning\n",
    "As you saw in the preview of the data in section 3, the DataFrame's format needs to be cleaned up. We want to reshape the data by moving the hierarchical index into the columns and make the `date` column the index. These changes will make the data ready to present in a table or in a visualization."
   ]
  },
  {
   "cell_type": "markdown",
   "metadata": {},
   "source": [
    "Let's move the index into the columns first."
   ]
  },
  {
   "cell_type": "code",
   "execution_count": 10,
   "metadata": {},
   "outputs": [
    {
     "data": {
      "text/html": [
       "<div>\n",
       "<style scoped>\n",
       "    .dataframe tbody tr th:only-of-type {\n",
       "        vertical-align: middle;\n",
       "    }\n",
       "\n",
       "    .dataframe tbody tr th {\n",
       "        vertical-align: top;\n",
       "    }\n",
       "\n",
       "    .dataframe thead th {\n",
       "        text-align: right;\n",
       "    }\n",
       "</style>\n",
       "<table border=\"1\" class=\"dataframe\">\n",
       "  <thead>\n",
       "    <tr style=\"text-align: right;\">\n",
       "      <th></th>\n",
       "      <th>country</th>\n",
       "      <th>date</th>\n",
       "      <th>ExternalDebtStock</th>\n",
       "    </tr>\n",
       "  </thead>\n",
       "  <tbody>\n",
       "    <tr>\n",
       "      <th>0</th>\n",
       "      <td>East Asia &amp; Pacific (excluding high income)</td>\n",
       "      <td>2018</td>\n",
       "      <td>1.404732e+12</td>\n",
       "    </tr>\n",
       "    <tr>\n",
       "      <th>1</th>\n",
       "      <td>East Asia &amp; Pacific (excluding high income)</td>\n",
       "      <td>2017</td>\n",
       "      <td>1.287079e+12</td>\n",
       "    </tr>\n",
       "    <tr>\n",
       "      <th>2</th>\n",
       "      <td>East Asia &amp; Pacific (excluding high income)</td>\n",
       "      <td>2016</td>\n",
       "      <td>1.170963e+12</td>\n",
       "    </tr>\n",
       "    <tr>\n",
       "      <th>3</th>\n",
       "      <td>East Asia &amp; Pacific (excluding high income)</td>\n",
       "      <td>2015</td>\n",
       "      <td>1.037230e+12</td>\n",
       "    </tr>\n",
       "    <tr>\n",
       "      <th>4</th>\n",
       "      <td>East Asia &amp; Pacific (excluding high income)</td>\n",
       "      <td>2014</td>\n",
       "      <td>1.039942e+12</td>\n",
       "    </tr>\n",
       "  </tbody>\n",
       "</table>\n",
       "</div>"
      ],
      "text/plain": [
       "                                       country  date  ExternalDebtStock\n",
       "0  East Asia & Pacific (excluding high income)  2018       1.404732e+12\n",
       "1  East Asia & Pacific (excluding high income)  2017       1.287079e+12\n",
       "2  East Asia & Pacific (excluding high income)  2016       1.170963e+12\n",
       "3  East Asia & Pacific (excluding high income)  2015       1.037230e+12\n",
       "4  East Asia & Pacific (excluding high income)  2014       1.039942e+12"
      ]
     },
     "execution_count": 10,
     "metadata": {},
     "output_type": "execute_result"
    }
   ],
   "source": [
    "EXD_cleaned = EXD_df.reset_index()\n",
    "EXD_cleaned.head()"
   ]
  },
  {
   "cell_type": "markdown",
   "metadata": {},
   "source": [
    "#### Basic statistics"
   ]
  },
  {
   "cell_type": "code",
   "execution_count": 11,
   "metadata": {},
   "outputs": [
    {
     "name": "stdout",
     "output_type": "stream",
     "text": [
      "<class 'pandas.core.frame.DataFrame'>\n",
      "RangeIndex: 60 entries, 0 to 59\n",
      "Data columns (total 3 columns):\n",
      " #   Column             Non-Null Count  Dtype  \n",
      "---  ------             --------------  -----  \n",
      " 0   country            60 non-null     object \n",
      " 1   date               60 non-null     object \n",
      " 2   ExternalDebtStock  60 non-null     float64\n",
      "dtypes: float64(1), object(2)\n",
      "memory usage: 1.5+ KB\n"
     ]
    }
   ],
   "source": [
    "EXD_cleaned.info()"
   ]
  },
  {
   "cell_type": "code",
   "execution_count": 12,
   "metadata": {},
   "outputs": [
    {
     "data": {
      "text/html": [
       "<div>\n",
       "<style scoped>\n",
       "    .dataframe tbody tr th:only-of-type {\n",
       "        vertical-align: middle;\n",
       "    }\n",
       "\n",
       "    .dataframe tbody tr th {\n",
       "        vertical-align: top;\n",
       "    }\n",
       "\n",
       "    .dataframe thead th {\n",
       "        text-align: right;\n",
       "    }\n",
       "</style>\n",
       "<table border=\"1\" class=\"dataframe\">\n",
       "  <thead>\n",
       "    <tr style=\"text-align: right;\">\n",
       "      <th></th>\n",
       "      <th>country</th>\n",
       "      <th>date</th>\n",
       "      <th>ExternalDebtStock</th>\n",
       "    </tr>\n",
       "  </thead>\n",
       "  <tbody>\n",
       "    <tr>\n",
       "      <th>count</th>\n",
       "      <td>60</td>\n",
       "      <td>60</td>\n",
       "      <td>6.000000e+01</td>\n",
       "    </tr>\n",
       "    <tr>\n",
       "      <th>unique</th>\n",
       "      <td>6</td>\n",
       "      <td>10</td>\n",
       "      <td>NaN</td>\n",
       "    </tr>\n",
       "    <tr>\n",
       "      <th>top</th>\n",
       "      <td>Sub-Saharan Africa (excluding high income)</td>\n",
       "      <td>2015</td>\n",
       "      <td>NaN</td>\n",
       "    </tr>\n",
       "    <tr>\n",
       "      <th>freq</th>\n",
       "      <td>10</td>\n",
       "      <td>6</td>\n",
       "      <td>NaN</td>\n",
       "    </tr>\n",
       "    <tr>\n",
       "      <th>mean</th>\n",
       "      <td>NaN</td>\n",
       "      <td>NaN</td>\n",
       "      <td>7.196861e+11</td>\n",
       "    </tr>\n",
       "    <tr>\n",
       "      <th>std</th>\n",
       "      <td>NaN</td>\n",
       "      <td>NaN</td>\n",
       "      <td>4.553943e+11</td>\n",
       "    </tr>\n",
       "    <tr>\n",
       "      <th>min</th>\n",
       "      <td>NaN</td>\n",
       "      <td>NaN</td>\n",
       "      <td>1.417278e+11</td>\n",
       "    </tr>\n",
       "    <tr>\n",
       "      <th>25%</th>\n",
       "      <td>NaN</td>\n",
       "      <td>NaN</td>\n",
       "      <td>3.166273e+11</td>\n",
       "    </tr>\n",
       "    <tr>\n",
       "      <th>50%</th>\n",
       "      <td>NaN</td>\n",
       "      <td>NaN</td>\n",
       "      <td>5.567326e+11</td>\n",
       "    </tr>\n",
       "    <tr>\n",
       "      <th>75%</th>\n",
       "      <td>NaN</td>\n",
       "      <td>NaN</td>\n",
       "      <td>1.177590e+12</td>\n",
       "    </tr>\n",
       "    <tr>\n",
       "      <th>max</th>\n",
       "      <td>NaN</td>\n",
       "      <td>NaN</td>\n",
       "      <td>1.534062e+12</td>\n",
       "    </tr>\n",
       "  </tbody>\n",
       "</table>\n",
       "</div>"
      ],
      "text/plain": [
       "                                           country  date  ExternalDebtStock\n",
       "count                                           60    60       6.000000e+01\n",
       "unique                                           6    10                NaN\n",
       "top     Sub-Saharan Africa (excluding high income)  2015                NaN\n",
       "freq                                            10     6                NaN\n",
       "mean                                           NaN   NaN       7.196861e+11\n",
       "std                                            NaN   NaN       4.553943e+11\n",
       "min                                            NaN   NaN       1.417278e+11\n",
       "25%                                            NaN   NaN       3.166273e+11\n",
       "50%                                            NaN   NaN       5.567326e+11\n",
       "75%                                            NaN   NaN       1.177590e+12\n",
       "max                                            NaN   NaN       1.534062e+12"
      ]
     },
     "execution_count": 12,
     "metadata": {},
     "output_type": "execute_result"
    }
   ],
   "source": [
    "EXD_cleaned.describe(include='all')"
   ]
  },
  {
   "cell_type": "markdown",
   "metadata": {},
   "source": [
    "Let's improve the column names."
   ]
  },
  {
   "cell_type": "code",
   "execution_count": 13,
   "metadata": {},
   "outputs": [
    {
     "data": {
      "text/html": [
       "<div>\n",
       "<style scoped>\n",
       "    .dataframe tbody tr th:only-of-type {\n",
       "        vertical-align: middle;\n",
       "    }\n",
       "\n",
       "    .dataframe tbody tr th {\n",
       "        vertical-align: top;\n",
       "    }\n",
       "\n",
       "    .dataframe thead th {\n",
       "        text-align: right;\n",
       "    }\n",
       "</style>\n",
       "<table border=\"1\" class=\"dataframe\">\n",
       "  <thead>\n",
       "    <tr style=\"text-align: right;\">\n",
       "      <th></th>\n",
       "      <th>Region</th>\n",
       "      <th>Year</th>\n",
       "      <th>ExternalDebtStock</th>\n",
       "    </tr>\n",
       "  </thead>\n",
       "  <tbody>\n",
       "    <tr>\n",
       "      <th>0</th>\n",
       "      <td>East Asia &amp; Pacific (excluding high income)</td>\n",
       "      <td>2018</td>\n",
       "      <td>1.404732e+12</td>\n",
       "    </tr>\n",
       "    <tr>\n",
       "      <th>1</th>\n",
       "      <td>East Asia &amp; Pacific (excluding high income)</td>\n",
       "      <td>2017</td>\n",
       "      <td>1.287079e+12</td>\n",
       "    </tr>\n",
       "    <tr>\n",
       "      <th>2</th>\n",
       "      <td>East Asia &amp; Pacific (excluding high income)</td>\n",
       "      <td>2016</td>\n",
       "      <td>1.170963e+12</td>\n",
       "    </tr>\n",
       "    <tr>\n",
       "      <th>3</th>\n",
       "      <td>East Asia &amp; Pacific (excluding high income)</td>\n",
       "      <td>2015</td>\n",
       "      <td>1.037230e+12</td>\n",
       "    </tr>\n",
       "    <tr>\n",
       "      <th>4</th>\n",
       "      <td>East Asia &amp; Pacific (excluding high income)</td>\n",
       "      <td>2014</td>\n",
       "      <td>1.039942e+12</td>\n",
       "    </tr>\n",
       "  </tbody>\n",
       "</table>\n",
       "</div>"
      ],
      "text/plain": [
       "                                        Region  Year  ExternalDebtStock\n",
       "0  East Asia & Pacific (excluding high income)  2018       1.404732e+12\n",
       "1  East Asia & Pacific (excluding high income)  2017       1.287079e+12\n",
       "2  East Asia & Pacific (excluding high income)  2016       1.170963e+12\n",
       "3  East Asia & Pacific (excluding high income)  2015       1.037230e+12\n",
       "4  East Asia & Pacific (excluding high income)  2014       1.039942e+12"
      ]
     },
     "execution_count": 13,
     "metadata": {},
     "output_type": "execute_result"
    }
   ],
   "source": [
    "EXD_cleaned.columns=['Region', 'Year', 'ExternalDebtStock']\n",
    "EXD_cleaned.head()"
   ]
  },
  {
   "cell_type": "markdown",
   "metadata": {},
   "source": [
    "Make the `Year` column the index, make it a datetime dtype, and sort it. This will improve the appearance of the DataFrame and make it possible to use pandas plotting methods to visualize the data in a line chart later."
   ]
  },
  {
   "cell_type": "code",
   "execution_count": 14,
   "metadata": {},
   "outputs": [
    {
     "data": {
      "text/html": [
       "<div>\n",
       "<style scoped>\n",
       "    .dataframe tbody tr th:only-of-type {\n",
       "        vertical-align: middle;\n",
       "    }\n",
       "\n",
       "    .dataframe tbody tr th {\n",
       "        vertical-align: top;\n",
       "    }\n",
       "\n",
       "    .dataframe thead th {\n",
       "        text-align: right;\n",
       "    }\n",
       "</style>\n",
       "<table border=\"1\" class=\"dataframe\">\n",
       "  <thead>\n",
       "    <tr style=\"text-align: right;\">\n",
       "      <th></th>\n",
       "      <th>Region</th>\n",
       "      <th>Year</th>\n",
       "      <th>ExternalDebtStock</th>\n",
       "    </tr>\n",
       "    <tr>\n",
       "      <th>Year</th>\n",
       "      <th></th>\n",
       "      <th></th>\n",
       "      <th></th>\n",
       "    </tr>\n",
       "  </thead>\n",
       "  <tbody>\n",
       "    <tr>\n",
       "      <th>2009-01-01</th>\n",
       "      <td>Latin America &amp; Caribbean (excluding high income)</td>\n",
       "      <td>2009</td>\n",
       "      <td>7.469656e+11</td>\n",
       "    </tr>\n",
       "    <tr>\n",
       "      <th>2009-01-01</th>\n",
       "      <td>South Asia</td>\n",
       "      <td>2009</td>\n",
       "      <td>2.933071e+11</td>\n",
       "    </tr>\n",
       "    <tr>\n",
       "      <th>2009-01-01</th>\n",
       "      <td>Middle East &amp; North Africa (excluding high inc...</td>\n",
       "      <td>2009</td>\n",
       "      <td>1.417278e+11</td>\n",
       "    </tr>\n",
       "    <tr>\n",
       "      <th>2009-01-01</th>\n",
       "      <td>Europe &amp; Central Asia (excluding high income)</td>\n",
       "      <td>2009</td>\n",
       "      <td>9.504303e+11</td>\n",
       "    </tr>\n",
       "    <tr>\n",
       "      <th>2009-01-01</th>\n",
       "      <td>East Asia &amp; Pacific (excluding high income)</td>\n",
       "      <td>2009</td>\n",
       "      <td>4.944027e+11</td>\n",
       "    </tr>\n",
       "  </tbody>\n",
       "</table>\n",
       "</div>"
      ],
      "text/plain": [
       "                                                       Region  Year  \\\n",
       "Year                                                                  \n",
       "2009-01-01  Latin America & Caribbean (excluding high income)  2009   \n",
       "2009-01-01                                         South Asia  2009   \n",
       "2009-01-01  Middle East & North Africa (excluding high inc...  2009   \n",
       "2009-01-01      Europe & Central Asia (excluding high income)  2009   \n",
       "2009-01-01        East Asia & Pacific (excluding high income)  2009   \n",
       "\n",
       "            ExternalDebtStock  \n",
       "Year                           \n",
       "2009-01-01       7.469656e+11  \n",
       "2009-01-01       2.933071e+11  \n",
       "2009-01-01       1.417278e+11  \n",
       "2009-01-01       9.504303e+11  \n",
       "2009-01-01       4.944027e+11  "
      ]
     },
     "execution_count": 14,
     "metadata": {},
     "output_type": "execute_result"
    }
   ],
   "source": [
    "EXD_cleaned.index = pd.to_datetime(EXD_cleaned['Year'])\n",
    "EXD_cleaned = EXD_cleaned.sort_index()\n",
    "EXD_cleaned.head()"
   ]
  },
  {
   "cell_type": "markdown",
   "metadata": {},
   "source": [
    "The data for the long-term external debt stock is currently in units. To improve readability, let's convert the units to billions and round the number to 0 decimal places. "
   ]
  },
  {
   "cell_type": "code",
   "execution_count": 20,
   "metadata": {},
   "outputs": [],
   "source": [
    "EXD_cleaned['ExternalDebtStock'] = round(EXD_cleaned['ExternalDebtStock']/1_000_000_000, 0)"
   ]
  },
  {
   "cell_type": "code",
   "execution_count": 16,
   "metadata": {},
   "outputs": [
    {
     "data": {
      "text/html": [
       "<div>\n",
       "<style scoped>\n",
       "    .dataframe tbody tr th:only-of-type {\n",
       "        vertical-align: middle;\n",
       "    }\n",
       "\n",
       "    .dataframe tbody tr th {\n",
       "        vertical-align: top;\n",
       "    }\n",
       "\n",
       "    .dataframe thead th {\n",
       "        text-align: right;\n",
       "    }\n",
       "</style>\n",
       "<table border=\"1\" class=\"dataframe\">\n",
       "  <thead>\n",
       "    <tr style=\"text-align: right;\">\n",
       "      <th></th>\n",
       "      <th>Region</th>\n",
       "      <th>Year</th>\n",
       "      <th>ExternalDebtStock</th>\n",
       "    </tr>\n",
       "    <tr>\n",
       "      <th>Year</th>\n",
       "      <th></th>\n",
       "      <th></th>\n",
       "      <th></th>\n",
       "    </tr>\n",
       "  </thead>\n",
       "  <tbody>\n",
       "    <tr>\n",
       "      <th>2009-01-01</th>\n",
       "      <td>Latin America &amp; Caribbean (excluding high income)</td>\n",
       "      <td>2009</td>\n",
       "      <td>747.0</td>\n",
       "    </tr>\n",
       "    <tr>\n",
       "      <th>2009-01-01</th>\n",
       "      <td>South Asia</td>\n",
       "      <td>2009</td>\n",
       "      <td>293.0</td>\n",
       "    </tr>\n",
       "    <tr>\n",
       "      <th>2009-01-01</th>\n",
       "      <td>Middle East &amp; North Africa (excluding high inc...</td>\n",
       "      <td>2009</td>\n",
       "      <td>142.0</td>\n",
       "    </tr>\n",
       "    <tr>\n",
       "      <th>2009-01-01</th>\n",
       "      <td>Europe &amp; Central Asia (excluding high income)</td>\n",
       "      <td>2009</td>\n",
       "      <td>950.0</td>\n",
       "    </tr>\n",
       "    <tr>\n",
       "      <th>2009-01-01</th>\n",
       "      <td>East Asia &amp; Pacific (excluding high income)</td>\n",
       "      <td>2009</td>\n",
       "      <td>494.0</td>\n",
       "    </tr>\n",
       "  </tbody>\n",
       "</table>\n",
       "</div>"
      ],
      "text/plain": [
       "                                                       Region  Year  \\\n",
       "Year                                                                  \n",
       "2009-01-01  Latin America & Caribbean (excluding high income)  2009   \n",
       "2009-01-01                                         South Asia  2009   \n",
       "2009-01-01  Middle East & North Africa (excluding high inc...  2009   \n",
       "2009-01-01      Europe & Central Asia (excluding high income)  2009   \n",
       "2009-01-01        East Asia & Pacific (excluding high income)  2009   \n",
       "\n",
       "            ExternalDebtStock  \n",
       "Year                           \n",
       "2009-01-01              747.0  \n",
       "2009-01-01              293.0  \n",
       "2009-01-01              142.0  \n",
       "2009-01-01              950.0  \n",
       "2009-01-01              494.0  "
      ]
     },
     "execution_count": 16,
     "metadata": {},
     "output_type": "execute_result"
    }
   ],
   "source": [
    "EXD_cleaned.head()"
   ]
  },
  {
   "cell_type": "markdown",
   "metadata": {},
   "source": [
    "Now let's remove the redundant \"(excluding high income)\" from the region names. We can include that information in the title of the chart instead."
   ]
  },
  {
   "cell_type": "code",
   "execution_count": 17,
   "metadata": {},
   "outputs": [
    {
     "data": {
      "text/plain": [
       "Middle East & North Africa     10\n",
       "East Asia & Pacific            10\n",
       "Europe & Central Asia          10\n",
       "Latin America & Caribbean      10\n",
       "South Asia                     10\n",
       "Sub-Saharan Africa             10\n",
       "Name: Region, dtype: int64"
      ]
     },
     "execution_count": 17,
     "metadata": {},
     "output_type": "execute_result"
    }
   ],
   "source": [
    "EXD_cleaned[\"Region\"] = EXD_cleaned[\"Region\"].str.replace(\"\\(excluding high income\\)\",\"\")\n",
    "EXD_cleaned['Region'].value_counts()"
   ]
  },
  {
   "cell_type": "markdown",
   "metadata": {},
   "source": [
    "Now our data should be ready to present in a table or visualize in a chart. Let's take a look at the first five rows again so we can compare the cleaned up data to the raw output in section 3."
   ]
  },
  {
   "cell_type": "code",
   "execution_count": 18,
   "metadata": {},
   "outputs": [
    {
     "data": {
      "text/html": [
       "<div>\n",
       "<style scoped>\n",
       "    .dataframe tbody tr th:only-of-type {\n",
       "        vertical-align: middle;\n",
       "    }\n",
       "\n",
       "    .dataframe tbody tr th {\n",
       "        vertical-align: top;\n",
       "    }\n",
       "\n",
       "    .dataframe thead th {\n",
       "        text-align: right;\n",
       "    }\n",
       "</style>\n",
       "<table border=\"1\" class=\"dataframe\">\n",
       "  <thead>\n",
       "    <tr style=\"text-align: right;\">\n",
       "      <th></th>\n",
       "      <th>Region</th>\n",
       "      <th>Year</th>\n",
       "      <th>ExternalDebtStock</th>\n",
       "    </tr>\n",
       "    <tr>\n",
       "      <th>Year</th>\n",
       "      <th></th>\n",
       "      <th></th>\n",
       "      <th></th>\n",
       "    </tr>\n",
       "  </thead>\n",
       "  <tbody>\n",
       "    <tr>\n",
       "      <th>2009-01-01</th>\n",
       "      <td>Latin America &amp; Caribbean</td>\n",
       "      <td>2009</td>\n",
       "      <td>747.0</td>\n",
       "    </tr>\n",
       "    <tr>\n",
       "      <th>2009-01-01</th>\n",
       "      <td>South Asia</td>\n",
       "      <td>2009</td>\n",
       "      <td>293.0</td>\n",
       "    </tr>\n",
       "    <tr>\n",
       "      <th>2009-01-01</th>\n",
       "      <td>Middle East &amp; North Africa</td>\n",
       "      <td>2009</td>\n",
       "      <td>142.0</td>\n",
       "    </tr>\n",
       "    <tr>\n",
       "      <th>2009-01-01</th>\n",
       "      <td>Europe &amp; Central Asia</td>\n",
       "      <td>2009</td>\n",
       "      <td>950.0</td>\n",
       "    </tr>\n",
       "    <tr>\n",
       "      <th>2009-01-01</th>\n",
       "      <td>East Asia &amp; Pacific</td>\n",
       "      <td>2009</td>\n",
       "      <td>494.0</td>\n",
       "    </tr>\n",
       "  </tbody>\n",
       "</table>\n",
       "</div>"
      ],
      "text/plain": [
       "                                 Region  Year  ExternalDebtStock\n",
       "Year                                                            \n",
       "2009-01-01   Latin America & Caribbean   2009              747.0\n",
       "2009-01-01                   South Asia  2009              293.0\n",
       "2009-01-01  Middle East & North Africa   2009              142.0\n",
       "2009-01-01       Europe & Central Asia   2009              950.0\n",
       "2009-01-01         East Asia & Pacific   2009              494.0"
      ]
     },
     "execution_count": 18,
     "metadata": {},
     "output_type": "execute_result"
    }
   ],
   "source": [
    "EXD_cleaned.head()"
   ]
  },
  {
   "cell_type": "markdown",
   "metadata": {},
   "source": [
    "#### Data Visualization"
   ]
  },
  {
   "cell_type": "markdown",
   "metadata": {},
   "source": [
    "Let's make a basic line graph with pandas (using Matplotlib as the backend plotting engine). "
   ]
  },
  {
   "cell_type": "code",
   "execution_count": 19,
   "metadata": {},
   "outputs": [
    {
     "data": {
      "image/png": "[encoded data removed]",
      "text/plain": [
       "<Figure size 720x576 with 1 Axes>"
      ]
     },
     "metadata": {
      "needs_background": "light"
     },
     "output_type": "display_data"
    }
   ],
   "source": [
    "EXD_cleaned.groupby('Region')['ExternalDebtStock'].plot(\n",
    "    kind='line', \n",
    "    legend='Region',\n",
    "    figsize=(10, 8),\n",
    "    title=\"Regional Long-term External Debt Stock (excluding High-Income countries)(USD billion)\"\n",
    ");"
   ]
  },
  {
   "cell_type": "markdown",
   "metadata": {},
   "source": [
    "Feel free to explore the data by modifying the chart or making your own!"
   ]
  },
  {
   "cell_type": "markdown",
   "metadata": {},
   "source": [
    "# Summary  \n",
    "\n",
    "You've seen how to retrieve data from the World Bank API and use it to make a visualization! \n",
    "\n",
    "We can't wait to see what interesting insights you uncover with data from World Bank! 🌍"
   ]
  }
 ],
 "metadata": {
  "kernelspec": {
   "display_name": "Python 3",
   "language": "python",
   "name": "python3"
  },
  "language_info": {
   "codemirror_mode": {
    "name": "ipython",
    "version": 3
   },
   "file_extension": ".py",
   "mimetype": "text/x-python",
   "name": "python",
   "nbconvert_exporter": "python",
   "pygments_lexer": "ipython3",
   "version": "3.7.7"
  }
 },
 "nbformat": 4,
 "nbformat_minor": 4
}
